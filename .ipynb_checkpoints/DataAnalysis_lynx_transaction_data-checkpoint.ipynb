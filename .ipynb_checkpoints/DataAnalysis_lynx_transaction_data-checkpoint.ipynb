{
 "cells": [
  {
   "cell_type": "code",
   "execution_count": 313,
   "metadata": {
    "collapsed": false
   },
   "outputs": [
    {
     "name": "stdout",
     "output_type": "stream",
     "text": [
      "   id            base_license       product_group country product_type  \\\n",
      "0  13  09-31001-1Z9110-YY0377     FloatingLicense      DE         Main   \n",
      "1  29  09-31001-199X35-Y9135W  LimitedSiteLicense      AT       Update   \n",
      "2  45  09-31001-W13903-73X75Y       AddOn Channel      DE       Update   \n",
      "3  61  09-31001-W13903-73X75Y       AddOn Channel      DE       Update   \n",
      "4  77  09-31001-W390Y9-Z10W5X       AddOn Channel      DE       Update   \n",
      "\n",
      "   billings transaction_date  purchase_year  \n",
      "0     300.0       2006-07-24           2006  \n",
      "1     569.0       2010-12-13           2006  \n",
      "2     179.0       2009-01-15           2006  \n",
      "3     169.0       2013-11-28           2006  \n",
      "4     189.0       2013-02-14           2006  \n"
     ]
    }
   ],
   "source": [
    "import gzip\n",
    "import csv\n",
    "import json\n",
    "import pandas as pd\n",
    "#with gzip.open(\"C:/Users/varsh/Desktop/TwoSixCapital/lynx_transaction_data.csv.gz\", 'rb') as f:\n",
    "#file_content = f.read()\n",
    "df = pd.read_csv(\"C:/Users/varsh/Desktop/TwoSixCapital/lynx_transaction_data.csv.gz\", compression='gzip', header=0, sep='|', quotechar='\"')\n",
    "print(df.head())"
   ]
  },
  {
   "cell_type": "code",
   "execution_count": 314,
   "metadata": {
    "collapsed": false
   },
   "outputs": [
    {
     "data": {
      "text/plain": [
       "2013"
      ]
     },
     "execution_count": 314,
     "metadata": {},
     "output_type": "execute_result"
    }
   ],
   "source": [
    "#df.loc[df['id'] == 13]\n",
    "df['transaction_date'].max()\n",
    "pd.DatetimeIndex(df['transaction_date']).max().year"
   ]
  },
  {
   "cell_type": "code",
   "execution_count": 315,
   "metadata": {
    "collapsed": false
   },
   "outputs": [
    {
     "data": {
      "text/plain": [
       "(607282, 8)"
      ]
     },
     "execution_count": 315,
     "metadata": {},
     "output_type": "execute_result"
    }
   ],
   "source": [
    "df.shape"
   ]
  },
  {
   "cell_type": "code",
   "execution_count": 316,
   "metadata": {
    "collapsed": false,
    "scrolled": true
   },
   "outputs": [
    {
     "name": "stdout",
     "output_type": "stream",
     "text": [
      "        Revenue  cohort_year\n",
      "0  9.490107e+06         2006\n",
      "1  4.777300e+06         2007\n",
      "2  2.671310e+07         2008\n",
      "3  4.493607e+07         2009\n",
      "4  6.526640e+07         2010\n",
      "5  8.413055e+07         2011\n",
      "6  7.022613e+07         2012\n",
      "7  6.242343e+07         2013\n"
     ]
    }
   ],
   "source": [
    "#df.groupby('purchase_year')['billings'].sum()[2013]\n",
    "df1 = df.groupby('purchase_year').billings.sum()\n",
    "df1 = pd.DataFrame({'cohort_year':df1.index, 'Revenue':df1.values})\n",
    "print(df1)"
   ]
  },
  {
   "cell_type": "code",
   "execution_count": 317,
   "metadata": {
    "collapsed": false
   },
   "outputs": [
    {
     "name": "stdout",
     "output_type": "stream",
     "text": [
      "        Revenue  purchase_year\n",
      "0  9.148328e+06           2006\n",
      "1  1.762778e+06           2007\n",
      "2  1.145560e+07           2008\n",
      "3  2.555888e+07           2009\n",
      "4  4.765774e+07           2010\n",
      "5  7.860067e+07           2011\n",
      "6  9.106072e+07           2012\n",
      "7  1.027184e+08           2013\n"
     ]
    }
   ],
   "source": [
    "df2=df.groupby(pd.DatetimeIndex(df['transaction_date']).year)['billings'].sum()\n",
    "df2=pd.DataFrame({'purchase_year':df2.index,'Revenue':df2.values})\n",
    "\n",
    "print(df2)"
   ]
  },
  {
   "cell_type": "code",
   "execution_count": 318,
   "metadata": {
    "collapsed": false
   },
   "outputs": [
    {
     "name": "stdout",
     "output_type": "stream",
     "text": [
      "        Revenue          product_group\n",
      "0  5.221858e+07          AddOn Channel\n",
      "1  5.118898e+06      AddOn Workstation\n",
      "2  1.133578e+08        FloatingLicense\n",
      "3  1.279544e+08     LimitedSiteLicense\n",
      "4  1.573479e+06  Mobile Device Support\n",
      "5  6.773995e+07             SingleSeat\n"
     ]
    }
   ],
   "source": [
    "df3 = df.groupby('product_group')['billings'].sum()\n",
    "df3 = pd.DataFrame({'product_group':df3.index,'Revenue':df3.values})\n",
    "print(df3)"
   ]
  },
  {
   "cell_type": "code",
   "execution_count": 319,
   "metadata": {
    "collapsed": false
   },
   "outputs": [
    {
     "name": "stdout",
     "output_type": "stream",
     "text": [
      "        Revenue product_type\n",
      "0  5.749198e+07        AddOn\n",
      "1  2.284230e+08         Main\n",
      "2  2.600304e+05         Misc\n",
      "3  8.178806e+07       Update\n"
     ]
    }
   ],
   "source": [
    "df4 = df.groupby('product_type')['billings'].sum()\n",
    "df4 = pd.DataFrame({'product_type':df4.index,'Revenue':df4.values})\n",
    "print(df4)"
   ]
  },
  {
   "cell_type": "code",
   "execution_count": 320,
   "metadata": {
    "collapsed": false
   },
   "outputs": [
    {
     "name": "stdout",
     "output_type": "stream",
     "text": [
      "         Revenue country\n",
      "0   9.492384e+06      AT\n",
      "1   1.088017e+07      AU\n",
      "2   6.108633e+06      BE\n",
      "3   6.609104e+06      BR\n",
      "4   8.529154e+06      CA\n",
      "5   1.629809e+07      CH\n",
      "6   1.210059e+08      DE\n",
      "7   9.143297e+06      DK\n",
      "8   1.986668e+07      FR\n",
      "9   1.426977e+07      GB\n",
      "10  1.197861e+07      IT\n",
      "11  1.384255e+07      NL\n",
      "12  7.579430e+06      NO\n",
      "13  7.560756e+06      RU\n",
      "14  9.399391e+06      SE\n",
      "15  9.539920e+07      US\n"
     ]
    }
   ],
   "source": [
    "df5 = df.groupby('country')['billings'].sum()\n",
    "df5 = pd.DataFrame({'country':df5.index,'Revenue':df5.values})\n",
    "print(df5)"
   ]
  },
  {
   "cell_type": "code",
   "execution_count": 321,
   "metadata": {
    "collapsed": false
   },
   "outputs": [
    {
     "name": "stdout",
     "output_type": "stream",
     "text": [
      "   cohort_year  no_of_customers\n",
      "0         2006              164\n",
      "1         2007             1736\n",
      "2         2008            12674\n",
      "3         2009            23302\n",
      "4         2010            37237\n",
      "5         2011            52914\n",
      "6         2012            56479\n",
      "7         2013            60629\n"
     ]
    }
   ],
   "source": [
    "df6 = df.groupby('purchase_year').base_license.nunique()\n",
    "df6 = pd.DataFrame({'cohort_year':df6.index,'no_of_customers':df6.values})\n",
    "print(df6)"
   ]
  },
  {
   "cell_type": "code",
   "execution_count": 322,
   "metadata": {
    "collapsed": false
   },
   "outputs": [
    {
     "name": "stdout",
     "output_type": "stream",
     "text": [
      "   no_of_customers  purchase_year\n",
      "0              164           2006\n",
      "1             1799           2007\n",
      "2            13216           2008\n",
      "3            28880           2009\n",
      "4            49937           2010\n",
      "5            76772           2011\n",
      "6            97561           2012\n",
      "7           113037           2013\n"
     ]
    }
   ],
   "source": [
    "df7 = df.groupby(pd.DatetimeIndex(df['transaction_date']).year).base_license.nunique()\n",
    "df7 = pd.DataFrame({'purchase_year':df7.index,'no_of_customers':df7.values})\n",
    "print(df7)"
   ]
  },
  {
   "cell_type": "code",
   "execution_count": 323,
   "metadata": {
    "collapsed": false
   },
   "outputs": [
    {
     "name": "stdout",
     "output_type": "stream",
     "text": [
      "   no_of_customers          product_group\n",
      "0            24645          AddOn Channel\n",
      "1            34912      AddOn Workstation\n",
      "2            91984        FloatingLicense\n",
      "3            58475     LimitedSiteLicense\n",
      "4             2515  Mobile Device Support\n",
      "5           121454             SingleSeat\n"
     ]
    }
   ],
   "source": [
    "df8 = df.groupby('product_group').base_license.nunique()\n",
    "df8 = pd.DataFrame({'product_group':df8.index,'no_of_customers':df8.values})\n",
    "print(df8)"
   ]
  },
  {
   "cell_type": "code",
   "execution_count": 324,
   "metadata": {
    "collapsed": false
   },
   "outputs": [
    {
     "name": "stdout",
     "output_type": "stream",
     "text": [
      "   no_of_customers product_type\n",
      "0            66104        AddOn\n",
      "1           245098         Main\n",
      "2              523         Misc\n",
      "3            86804       Update\n"
     ]
    }
   ],
   "source": [
    "df9 = df.groupby('product_type').base_license.nunique()\n",
    "df9 = pd.DataFrame({'product_type':df9.index,'no_of_customers':df9.values})\n",
    "print(df9)"
   ]
  },
  {
   "cell_type": "code",
   "execution_count": 325,
   "metadata": {
    "collapsed": false
   },
   "outputs": [
    {
     "name": "stdout",
     "output_type": "stream",
     "text": [
      "   country  no_of_customers\n",
      "0       AT             6207\n",
      "1       AU             7667\n",
      "2       BE             4103\n",
      "3       BR             6639\n",
      "4       CA             5782\n",
      "5       CH            10173\n",
      "6       DE            79804\n",
      "7       DK             5775\n",
      "8       FR            13795\n",
      "9       GB             9545\n",
      "10      IT             9179\n",
      "11      NL             9233\n",
      "12      NO             4298\n",
      "13      RU             6424\n",
      "14      SE             5818\n",
      "15      US            61637\n"
     ]
    }
   ],
   "source": [
    "df10 = df.groupby('country').base_license.nunique()\n",
    "df10 = pd.DataFrame({'country':df10.index,'no_of_customers':df10.values})\n",
    "print(df10)"
   ]
  },
  {
   "cell_type": "code",
   "execution_count": 326,
   "metadata": {
    "collapsed": false
   },
   "outputs": [
    {
     "name": "stdout",
     "output_type": "stream",
     "text": [
      "   cohort_year  repeated_trans\n",
      "0         2006             122\n",
      "1         2007            1312\n",
      "2         2008            9314\n",
      "3         2009           16088\n",
      "4         2010           22817\n",
      "5         2011           28295\n",
      "6         2012           23235\n",
      "7         2013           14799\n"
     ]
    }
   ],
   "source": [
    "repeated_trans = df.groupby('base_license').filter(lambda x: len(x) > 1)\n",
    "df11 = repeated_trans.groupby('purchase_year').base_license.nunique()\n",
    "df11 = pd.DataFrame({'cohort_year':df11.index,'repeated_trans':df11.values})\n",
    "print(df11)"
   ]
  },
  {
   "cell_type": "code",
   "execution_count": 327,
   "metadata": {
    "collapsed": false
   },
   "outputs": [
    {
     "name": "stdout",
     "output_type": "stream",
     "text": [
      "   purchase_year  repeated_trans\n",
      "0           2006             122\n",
      "1           2007            1375\n",
      "2           2008            9856\n",
      "3           2009           21666\n",
      "4           2010           35517\n",
      "5           2011           52153\n",
      "6           2012           64317\n",
      "7           2013           67207\n"
     ]
    }
   ],
   "source": [
    "df12 = repeated_trans.groupby(pd.DatetimeIndex(repeated_trans['transaction_date']).year).base_license.nunique()\n",
    "df12 = pd.DataFrame({'purchase_year':df12.index,'repeated_trans':df12.values})\n",
    "print(df12)"
   ]
  },
  {
   "cell_type": "code",
   "execution_count": 328,
   "metadata": {
    "collapsed": false
   },
   "outputs": [
    {
     "name": "stdout",
     "output_type": "stream",
     "text": [
      "           product_group  repeated_trans\n",
      "0          AddOn Channel           24645\n",
      "1      AddOn Workstation           34912\n",
      "2        FloatingLicense           48942\n",
      "3     LimitedSiteLicense           35555\n",
      "4  Mobile Device Support            2515\n",
      "5             SingleSeat           58263\n"
     ]
    }
   ],
   "source": [
    "df13 = repeated_trans.groupby('product_group').base_license.nunique()\n",
    "df13 = pd.DataFrame({'product_group':df13.index,'repeated_trans':df13.values})\n",
    "print(df13)"
   ]
  },
  {
   "cell_type": "code",
   "execution_count": 329,
   "metadata": {
    "collapsed": false
   },
   "outputs": [
    {
     "name": "stdout",
     "output_type": "stream",
     "text": [
      "  product_type  repeated_trans\n",
      "0        AddOn           66086\n",
      "1         Main          115972\n",
      "2         Misc             521\n",
      "3       Update           86797\n"
     ]
    }
   ],
   "source": [
    "df14 = repeated_trans.groupby('product_type').base_license.nunique()\n",
    "df14 = pd.DataFrame({'product_type':df14.index,'repeated_trans':df14.values})\n",
    "print(df14)"
   ]
  },
  {
   "cell_type": "code",
   "execution_count": 330,
   "metadata": {
    "collapsed": false
   },
   "outputs": [
    {
     "name": "stdout",
     "output_type": "stream",
     "text": [
      "   country  repeated_trans\n",
      "0       AT            3547\n",
      "1       AU            3740\n",
      "2       BE            2133\n",
      "3       BR            2320\n",
      "4       CA            2811\n",
      "5       CH            6017\n",
      "6       DE           41089\n",
      "7       DK            3292\n",
      "8       FR            6307\n",
      "9       GB            4660\n",
      "10      IT            4433\n",
      "11      NL            4834\n",
      "12      NO            2391\n",
      "13      RU            2029\n",
      "14      SE            3068\n",
      "15      US           24255\n"
     ]
    }
   ],
   "source": [
    "df15 = repeated_trans.groupby('country').base_license.nunique()\n",
    "df15 = pd.DataFrame({'country':df15.index,'repeated_trans':df15.values})\n",
    "print(df15)"
   ]
  },
  {
   "cell_type": "code",
   "execution_count": 331,
   "metadata": {
    "collapsed": false
   },
   "outputs": [
    {
     "name": "stdout",
     "output_type": "stream",
     "text": [
      "   avg_trans_val  cohort_year\n",
      "0    7856.049189         2006\n",
      "1     428.226968         2007\n",
      "2     418.470996         2008\n",
      "3     485.407034         2009\n",
      "4     566.873406         2010\n",
      "5     646.437019         2011\n",
      "6     669.113433         2012\n",
      "7     707.139284         2013\n"
     ]
    }
   ],
   "source": [
    "df16 = df.groupby('purchase_year').billings.mean()\n",
    "df16 = pd.DataFrame({'cohort_year':df16.index,'avg_trans_val':df16.values})\n",
    "print(df16)"
   ]
  },
  {
   "cell_type": "code",
   "execution_count": 332,
   "metadata": {
    "collapsed": false
   },
   "outputs": [
    {
     "name": "stdout",
     "output_type": "stream",
     "text": [
      "   avg_trans_val  purchase_year\n",
      "0   36017.038425           2006\n",
      "1     667.719034           2007\n",
      "2     550.247434           2008\n",
      "3     570.854661           2009\n",
      "4     636.310424           2010\n",
      "5     672.991260           2011\n",
      "6     581.567754           2012\n",
      "7     539.124814           2013\n"
     ]
    }
   ],
   "source": [
    "df17 = df.groupby(pd.DatetimeIndex(df['transaction_date']).year).billings.mean()\n",
    "df17 = pd.DataFrame({'purchase_year':df17.index,'avg_trans_val':df17.values})\n",
    "print(df17)"
   ]
  },
  {
   "cell_type": "code",
   "execution_count": 333,
   "metadata": {
    "collapsed": false
   },
   "outputs": [
    {
     "name": "stdout",
     "output_type": "stream",
     "text": [
      "   avg_trans_val          product_group\n",
      "0     458.584683          AddOn Channel\n",
      "1      72.614661      AddOn Workstation\n",
      "2     775.668687        FloatingLicense\n",
      "3    1312.595189     LimitedSiteLicense\n",
      "4     233.453866  Mobile Device Support\n",
      "5     392.570182             SingleSeat\n"
     ]
    }
   ],
   "source": [
    "df18 = df.groupby('product_group').billings.mean()\n",
    "df18 = pd.DataFrame({'product_group':df18.index,'avg_trans_val':df18.values})\n",
    "print(df18)"
   ]
  },
  {
   "cell_type": "code",
   "execution_count": 334,
   "metadata": {
    "collapsed": false
   },
   "outputs": [
    {
     "name": "stdout",
     "output_type": "stream",
     "text": [
      "   avg_trans_val product_type\n",
      "0     447.697550        AddOn\n",
      "1     931.962260         Main\n",
      "2     492.481742         Misc\n",
      "3     350.663515       Update\n"
     ]
    }
   ],
   "source": [
    "df19 = df.groupby('product_type').billings.mean()\n",
    "df19 = pd.DataFrame({'product_type':df19.index,'avg_trans_val':df19.values})\n",
    "print(df19)"
   ]
  },
  {
   "cell_type": "code",
   "execution_count": 335,
   "metadata": {
    "collapsed": false
   },
   "outputs": [
    {
     "name": "stdout",
     "output_type": "stream",
     "text": [
      "    avg_trans_val country\n",
      "0      517.155228      AT\n",
      "1      605.462840      AU\n",
      "2      562.126943      BE\n",
      "3      540.533599      BR\n",
      "4      610.489862      CA\n",
      "5      530.934361      CH\n",
      "6      575.708476      DE\n",
      "7      528.178443      DK\n",
      "8      612.828618      FR\n",
      "9      620.155008      GB\n",
      "10     552.009786      IT\n",
      "11     571.888112      NL\n",
      "12     566.516917      NO\n",
      "13     683.180246      RU\n",
      "14     593.658221      SE\n",
      "15     711.477726      US\n"
     ]
    }
   ],
   "source": [
    "df20 = df.groupby('country').billings.mean()\n",
    "df20 = pd.DataFrame({'country':df20.index,'avg_trans_val':df20.values})\n",
    "print(df20)"
   ]
  },
  {
   "cell_type": "code",
   "execution_count": 336,
   "metadata": {
    "collapsed": false,
    "scrolled": true
   },
   "outputs": [
    {
     "name": "stdout",
     "output_type": "stream",
     "text": [
      "   avg_cumulative  cohort_year\n",
      "0    57866.508659         2006\n",
      "1     2751.900956         2007\n",
      "2     2107.708380         2008\n",
      "3     1928.421199         2009\n",
      "4     1752.729886         2010\n",
      "5     1589.948705         2011\n",
      "6     1243.402525         2012\n",
      "7     1029.596851         2013\n"
     ]
    }
   ],
   "source": [
    "df21 = df.groupby(by=['purchase_year']).billings.sum()/df.groupby('purchase_year').base_license.nunique()\n",
    "df21 = pd.DataFrame({'cohort_year':df21.index,'avg_cumulative':df21.values})\n",
    "print(df21)"
   ]
  },
  {
   "cell_type": "code",
   "execution_count": 337,
   "metadata": {
    "collapsed": false
   },
   "outputs": [
    {
     "name": "stdout",
     "output_type": "stream",
     "text": [
      "   avg_cumulative  purchase_year\n",
      "0    55782.486341           2006\n",
      "1      979.865620           2007\n",
      "2      866.797921           2008\n",
      "3      885.002622           2009\n",
      "4      954.357327           2010\n",
      "5     1023.819469           2011\n",
      "6      933.372103           2012\n",
      "7      908.714603           2013\n"
     ]
    }
   ],
   "source": [
    "df22 = df.groupby(by=[pd.DatetimeIndex(df['transaction_date']).year]).billings.sum()/df.groupby(pd.DatetimeIndex(df['transaction_date']).year).base_license.nunique()\n",
    "df22 = pd.DataFrame({'purchase_year':df22.index,'avg_cumulative':df22.values})\n",
    "print(df22)"
   ]
  },
  {
   "cell_type": "code",
   "execution_count": 338,
   "metadata": {
    "collapsed": false
   },
   "outputs": [
    {
     "name": "stdout",
     "output_type": "stream",
     "text": [
      "   avg_cumulative          product_group\n",
      "0     2118.830564          AddOn Channel\n",
      "1      146.622878      AddOn Workstation\n",
      "2     1232.364033        FloatingLicense\n",
      "3     2188.189897     LimitedSiteLicense\n",
      "4      625.637797  Mobile Device Support\n",
      "5      557.741596             SingleSeat\n"
     ]
    }
   ],
   "source": [
    "#df23 = df.groupby(by=['product_group', pd.DatetimeIndex(df['transaction_date']).year]).billings.sum().cumsum()\n",
    "df23 = df.groupby(by=['product_group']).billings.sum()/df.groupby('product_group').base_license.nunique()\n",
    "df23 = pd.DataFrame({'product_group':df23.index,'avg_cumulative':df23.values})\n",
    "print(df23)"
   ]
  },
  {
   "cell_type": "code",
   "execution_count": 339,
   "metadata": {
    "collapsed": false
   },
   "outputs": [
    {
     "name": "stdout",
     "output_type": "stream",
     "text": [
      "   avg_cumulative product_type\n",
      "0      869.720082        AddOn\n",
      "1      931.966062         Main\n",
      "2      497.189981         Misc\n",
      "3      942.215301       Update\n"
     ]
    }
   ],
   "source": [
    "df24 = df.groupby(by=['product_type']).billings.sum()/df.groupby('product_type').base_license.nunique()\n",
    "df24 = pd.DataFrame({'product_type':df24.index,'avg_cumulative':df24.values})\n",
    "print(df24)"
   ]
  },
  {
   "cell_type": "code",
   "execution_count": 340,
   "metadata": {
    "collapsed": false
   },
   "outputs": [
    {
     "name": "stdout",
     "output_type": "stream",
     "text": [
      "    avg_cumulative country\n",
      "0      1529.303079      AT\n",
      "1      1419.090548      AU\n",
      "2      1488.821226      BE\n",
      "3       995.496960      BR\n",
      "4      1475.121733      CA\n",
      "5      1602.092999      CH\n",
      "6      1516.288177      DE\n",
      "7      1583.254895      DK\n",
      "8      1440.136147      FR\n",
      "9      1494.999134      GB\n",
      "10     1305.001890      IT\n",
      "11     1499.247454      NL\n",
      "12     1763.478322      NO\n",
      "13     1176.954511      RU\n",
      "14     1615.570749      SE\n",
      "15     1547.758690      US\n"
     ]
    }
   ],
   "source": [
    "df25 = df.groupby(by=['country']).billings.sum()/df.groupby('country').base_license.nunique()\n",
    "df25 = pd.DataFrame({'country':df25.index,'avg_cumulative':df25.values})\n",
    "print(df25)"
   ]
  },
  {
   "cell_type": "code",
   "execution_count": 341,
   "metadata": {
    "collapsed": false,
    "scrolled": true
   },
   "outputs": [],
   "source": [
    "# Create a Pandas Excel writer using XlsxWriter as the engine.\n",
    "writer = pd.ExcelWriter('C:/Users/varsh/Desktop/TwoSixCapital/DataEngineeringChallenge.xlsx', engine='xlsxwriter')\n",
    "\n",
    "# Convert the dataframe to an XlsxWriter Excel object.\n",
    "title = pd.DataFrame({'Title':'Revenue by Cohort year'}, index=[0])\n",
    "title.to_excel(writer, sheet_name='Revenue', startrow=0, index=False, columns = ['Title'], header = False)\n",
    "df1.to_excel(writer, sheet_name='Revenue', startrow=2, index=False, columns = ['cohort_year','Revenue'], header = ['Cohort Year','Revenue'])\n",
    "\n",
    "title = pd.DataFrame({'Title':'Revenue by Purchase Year'}, index=[0])\n",
    "title.to_excel(writer, sheet_name='Revenue', startrow=0, startcol=4, index=False, columns = ['Title'], header = False)\n",
    "df2.to_excel(writer, sheet_name='Revenue', startrow=2, startcol=4, index=False, columns = ['purchase_year','Revenue'], header = ['Purchase Year','Revenue'])\n",
    "\n",
    "title = pd.DataFrame({'Title':'Revenue by Product Group'}, index=[0])\n",
    "title.to_excel(writer, sheet_name='Revenue', startrow=0, startcol=8, index=False, columns = ['Title'], header = False)\n",
    "df3.to_excel(writer, sheet_name='Revenue', startrow=2, startcol=8, index=False, columns = ['product_group','Revenue'], header = ['Product Group','Revenue'])\n",
    "\n",
    "title = pd.DataFrame({'Title':'Revenue by Product Type'}, index=[0])\n",
    "title.to_excel(writer, sheet_name='Revenue', startrow=0, startcol=12, index=False, columns = ['Title'], header = False)\n",
    "df4.to_excel(writer, sheet_name='Revenue', startrow=2, startcol=12, index=False, columns = ['product_type','Revenue'], header = ['Product Type','Revenue'])\n",
    "\n",
    "title = pd.DataFrame({'Title':'Revenue by Country'}, index=[0])\n",
    "title.to_excel(writer, sheet_name='Revenue', startrow=0, startcol=16, index=False, columns = ['Title'], header = False)\n",
    "df5.to_excel(writer, sheet_name='Revenue', startrow=2, startcol=16, index=False, columns = ['country','Revenue'], header = ['Country','Revenue'])\n",
    "\n",
    "title = pd.DataFrame({'Title':'Number of Customers by Cohort Year'}, index=[0])\n",
    "title.to_excel(writer, sheet_name='Customer Counts', startrow=0, index=False, columns = ['Title'], header = False)\n",
    "df6.to_excel(writer, sheet_name='Customer Counts', startrow=2, index=False, columns = ['cohort_year','no_of_customers'], header = ['Cohort Year','Number of Customers'])\n",
    "\n",
    "title = pd.DataFrame({'Title':'Number of Customers by Purchase Year'}, index=[0])\n",
    "title.to_excel(writer, sheet_name='Customer Counts', startrow=0, startcol=4, index=False, columns = ['Title'], header = False)\n",
    "df7.to_excel(writer, sheet_name='Customer Counts', startrow=2, startcol=4, index=False, columns = ['purchase_year','no_of_customers'], header = ['Purchase Year','Number of Customers'])\n",
    "\n",
    "title = pd.DataFrame({'Title':'Number of Customers by Product Group'}, index=[0])\n",
    "title.to_excel(writer, sheet_name='Customer Counts', startrow=0, startcol=8, index=False, columns = ['Title'], header = False)\n",
    "df8.to_excel(writer, sheet_name='Customer Counts', startrow=2, startcol=8, index=False, columns = ['product_group','no_of_customers'], header = ['Product Group','Number of Customers'])\n",
    "\n",
    "title = pd.DataFrame({'Title':'Number of Customers by Product Type'}, index=[0])\n",
    "title.to_excel(writer, sheet_name='Customer Counts', startrow=0, startcol=12, index=False, columns = ['Title'], header = False)\n",
    "df9.to_excel(writer, sheet_name='Customer Counts', startrow=2, startcol=12, index=False, columns = ['product_type','no_of_customers'], header = ['Product Type','Number of Customers'])\n",
    "\n",
    "title = pd.DataFrame({'Title':'Customers by Country'}, index=[0])\n",
    "title.to_excel(writer, sheet_name='Customer Counts', startrow=0, startcol=16, index=False, columns = ['Title'], header = False)\n",
    "df10.to_excel(writer, sheet_name='Customer Counts', startrow=2, startcol=16, index=False, columns = ['country','no_of_customers'], header = ['Country','Number of Customers'])\n",
    "\n",
    "title = pd.DataFrame({'Title':'Repeat Transactions by Cohort Year'}, index=[0])\n",
    "title.to_excel(writer, sheet_name='Repeat Transactions', startrow=0, index=False, columns = ['Title'], header = False)\n",
    "df11.to_excel(writer, sheet_name='Repeat Transactions', startrow=2, index=False, columns = ['cohort_year','repeated_trans'], header = ['Cohort Year','Repeat Transactions'])\n",
    "\n",
    "title = pd.DataFrame({'Title':'Repeat Transactions by Purchase Year'}, index=[0])\n",
    "title.to_excel(writer, sheet_name='Repeat Transactions', startrow=0, startcol=4, index=False, columns = ['Title'], header = False)\n",
    "df12.to_excel(writer, sheet_name='Repeat Transactions', startrow=2, startcol=4, index=False, columns = ['purchase_year','repeated_trans'], header = ['Purchase Year','Repeat Transactions'])\n",
    "\n",
    "title = pd.DataFrame({'Title':'Repeat Transactions by Product Group'}, index=[0])\n",
    "title.to_excel(writer, sheet_name='Repeat Transactions', startrow=0, startcol=8, index=False, columns = ['Title'], header = False)\n",
    "df13.to_excel(writer, sheet_name='Repeat Transactions', startrow=2, startcol=8, index=False, columns = ['product_group','repeated_trans'], header = ['Product Group','Repeat Transactions'])\n",
    "\n",
    "title = pd.DataFrame({'Title':'Repeat Transactions by Product Type'}, index=[0])\n",
    "title.to_excel(writer, sheet_name='Repeat Transactions', startrow=0, startcol=12, index=False, columns = ['Title'], header = False)\n",
    "df14.to_excel(writer, sheet_name='Repeat Transactions', startrow=2, startcol=12, index=False, columns = ['product_type','repeated_trans'], header = ['Product Type','Repeat Transactions'])\n",
    "\n",
    "title = pd.DataFrame({'Title':'Repeat Transactions by Country'}, index=[0])\n",
    "title.to_excel(writer, sheet_name='Repeat Transactions', startrow=0, startcol=16, index=False, columns = ['Title'], header = False)\n",
    "df15.to_excel(writer, sheet_name='Repeat Transactions', startrow=2, startcol=16, index=False, columns = ['country','repeated_trans'], header = ['Country','Repeat Transactions'])\n",
    "\n",
    "\n",
    "title = pd.DataFrame({'Title':'Avg Transaction Value by Cohort Year'}, index=[0])\n",
    "title.to_excel(writer, sheet_name='Average Transaction Value', startrow=0, index=False, columns = ['Title'], header = False)\n",
    "df16.to_excel(writer, sheet_name='Average Transaction Value', startrow=2, index=False, columns = ['cohort_year','avg_trans_val'], header = ['Cohort Year','Average Transaction Value'])\n",
    "\n",
    "title = pd.DataFrame({'Title':'Avg Transaction Value by Purchase Year'}, index=[0])\n",
    "title.to_excel(writer, sheet_name='Average Transaction Value', startrow=0, startcol=4, index=False, columns = ['Title'], header = False)\n",
    "df17.to_excel(writer, sheet_name='Average Transaction Value', startrow=2, startcol=4, index=False, columns = ['purchase_year','avg_trans_val'], header = ['Purchase Year','Average Transaction Value'])\n",
    "\n",
    "title = pd.DataFrame({'Title':'Avg Transaction Value by Product Group'}, index=[0])\n",
    "title.to_excel(writer, sheet_name='Average Transaction Value', startrow=0, startcol=8, index=False, columns = ['Title'], header = False)\n",
    "df18.to_excel(writer, sheet_name='Average Transaction Value', startrow=2, startcol=8, index=False, columns = ['product_group','avg_trans_val'], header = ['Product Group','Average Transaction Value'])\n",
    "\n",
    "title = pd.DataFrame({'Title':'Avg Transaction Value by Product Type'}, index=[0])\n",
    "title.to_excel(writer, sheet_name='Average Transaction Value', startrow=0, startcol=12, index=False, columns = ['Title'], header = False)\n",
    "df19.to_excel(writer, sheet_name='Average Transaction Value', startrow=2, startcol=12, index=False, columns = ['product_type','avg_trans_val'], header = ['Product Type','Average Transaction Value'])\n",
    "\n",
    "title = pd.DataFrame({'Title':'Avg Transaction Value by Country'}, index=[0])\n",
    "title.to_excel(writer, sheet_name='Average Transaction Value', startrow=0, startcol=16, index=False, columns = ['Title'], header = False)\n",
    "df20.to_excel(writer, sheet_name='Average Transaction Value', startrow=2, startcol=16, index=False, columns = ['country','avg_trans_val'], header = ['Country','Average Transaction Value'])\n",
    "\n",
    "title = pd.DataFrame({'Title':'Average cumulative by Cohort Year'}, index=[0])\n",
    "title.to_excel(writer, sheet_name='Average Cumulative', startrow=0, index=False, columns = ['Title'], header = False)\n",
    "df21.to_excel(writer, sheet_name='Average Cumulative', startrow=2, index=False, columns = ['cohort_year','avg_cumulative'], header = ['Cohort Year','Average Cumulative'])\n",
    "\n",
    "title = pd.DataFrame({'Title':'Average cumulative by Purchase Year'}, index=[0])\n",
    "title.to_excel(writer, sheet_name='Average Cumulative', startrow=0, startcol=4, index=False, columns = ['Title'], header = False)\n",
    "df22.to_excel(writer, sheet_name='Average Cumulative', startrow=2, startcol=4, index=False, columns = ['purchase_year','avg_cumulative'], header = ['Purchase Year','Average Cumulative'])\n",
    "\n",
    "title = pd.DataFrame({'Title':'Average cumulative by Product Group'}, index=[0])\n",
    "title.to_excel(writer, sheet_name='Average Cumulative', startrow=0, startcol=8, index=False, columns = ['Title'], header = False)\n",
    "df23.to_excel(writer, sheet_name='Average Cumulative', startrow=2, startcol=8, index=False, columns = ['product_group','avg_cumulative'], header = ['Product Group','Average Cumulative'])\n",
    "\n",
    "title = pd.DataFrame({'Title':'Average cumulative by Product Type'}, index=[0])\n",
    "title.to_excel(writer, sheet_name='Average Cumulative', startrow=0, startcol=12, index=False, columns = ['Title'], header = False)\n",
    "df24.to_excel(writer, sheet_name='Average Cumulative', startrow=2, startcol=12, index=False, columns = ['product_type','avg_cumulative'], header = ['Product Type','Average Cumulative'])\n",
    "\n",
    "title = pd.DataFrame({'Title':'Average cumulative by Country'}, index=[0])\n",
    "title.to_excel(writer, sheet_name='Average Cumulative', startrow=0, startcol=16, index=False, columns = ['Title'], header = False)\n",
    "df25.to_excel(writer, sheet_name='Average Cumulative', startrow=2, startcol=16, index=False, columns = ['country','avg_cumulative'], header = ['Country','Average Cumulative'])\n",
    "\n",
    "#worksheet.write('A1', 'Formatted date', bold)\n",
    "#worksheet.write('D1', \"Revenue by Cohort Year\", bold)\n",
    "#worksheet.write('F1', \"Revenue by Purchase Year\", bold)\n",
    "#worksheet.write('I1', \"Revenue by Product Group\", bold)\n",
    "#worksheet.write('L1', \"Revenue by Product Type\", bold)\n",
    "#worksheet.write('O1', \"Revenue by Country\", bold)\n",
    "# Close the Pandas Excel writer and output the Excel file.\n",
    "writer.save()"
   ]
  },
  {
   "cell_type": "code",
   "execution_count": null,
   "metadata": {
    "collapsed": true
   },
   "outputs": [],
   "source": []
  }
 ],
 "metadata": {
  "kernelspec": {
   "display_name": "Python 3",
   "language": "python",
   "name": "python3"
  },
  "language_info": {
   "codemirror_mode": {
    "name": "ipython",
    "version": 3
   },
   "file_extension": ".py",
   "mimetype": "text/x-python",
   "name": "python",
   "nbconvert_exporter": "python",
   "pygments_lexer": "ipython3",
   "version": "3.6.0"
  }
 },
 "nbformat": 4,
 "nbformat_minor": 2
}
